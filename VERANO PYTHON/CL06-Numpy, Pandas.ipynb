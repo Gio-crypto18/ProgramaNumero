{
 "cells": [
  {
   "attachments": {
    "49e04011-0f72-4f75-a398-c0a7d308ce94.png": {
     "image/png": "[encoded data removed]"
    }
   },
   "cell_type": "markdown",
   "id": "a02b883c-7960-49a8-b73c-0f5f2ffb12b8",
   "metadata": {
    "id": "Miz9bPiAYkdg"
   },
   "source": [
    "## ***numpy***\n",
    "![image.png](attachment:49e04011-0f72-4f75-a398-c0a7d308ce94.png)\n",
    "- ***numpy*** (Numerical Python) es una biblioteca Python de código abierto que se utiliza en casi todos los campos de la ciencia y la ingeniería.\n",
    "- Es el estándar universal para trabajar con datos numéricos en Python y es el núcleo de los ecosistemas científicos de Python.\n",
    "- La biblioteca $numpy$ contiene matrices multidimensionales y estructuras de datos matriciales\n",
    "- Proporciona ***ndarray***, un objeto de matriz n-dimensional homogéneo, con métodos para operar de manera eficiente en él.\n",
    "- ***numpy*** se puede utilizar para realizar una amplia variedad de operaciones matemáticas en matrices.\n",
    "- Agrega poderosas estructuras de datos a Python que garantizan cálculos eficientes con arreglos y matrices y proporciona una enorme biblioteca de funciones matemáticas de alto nivel que operan en estos arreglos y matrices."
   ]
  },
  {
   "cell_type": "markdown",
   "id": "e393cff8-8097-4238-9052-4f6664ebfae2",
   "metadata": {
    "id": "wSIW2miLj683"
   },
   "source": [
    "## ***Arrays: Vectores y matrices***\n",
    "- Se puede crear un vector o una matriz ***numpy*** de diferentes maneras. "
   ]
  },
  {
   "cell_type": "markdown",
   "id": "5a036696-403f-4959-a4df-706e0f0e1660",
   "metadata": {},
   "source": [
    "### ***Desde listas***"
   ]
  },
  {
   "cell_type": "code",
   "execution_count": 1,
   "id": "cb8ef3ec-dd1f-403d-8e8b-5a7589cfcc56",
   "metadata": {
    "id": "Synv7SePkJ5x"
   },
   "outputs": [
    {
     "name": "stdout",
     "output_type": "stream",
     "text": [
      "\n",
      "Datos de la matriz 'a'\n",
      "El vector: [1 2 3] \n",
      "El tipo de objeto: <class 'numpy.ndarray'>\n",
      "Su dimensión: 1\n",
      "Su forma: (3,)\n",
      "Imprimiendo cada elemento: 1 2 3\n",
      "El vector modificado: [5 2 3]\n",
      "\n",
      "Datos de la matriz 'b'\n",
      "La matriz\n",
      "[[1 2 3]\n",
      " [4 5 6]]\n",
      "El tipo: <class 'numpy.ndarray'>\n",
      "Su dimensión: 2\n",
      "Su forma: (2, 3), es decir 2 filas y 3 columnas\n",
      "Imprimiendo elementos: 1 2 4\n",
      "La matriz modificada:\n",
      "[[1 2 3]\n",
      " [4 5 7]]\n"
     ]
    }
   ],
   "source": [
    "# Creando arreglos numpy analizando dimensiones y formas\n",
    "import numpy as np   #Es usual que el alias sea np\n",
    "\n",
    "\n",
    "# Creando un vector desde una lista usando la función array. Funciona igual con tuplas\n",
    "a = np.array([1, 2, 3])\n",
    "\n",
    "print(\"\\nDatos de la matriz 'a'\")\n",
    "print(f\"El vector: {a} \")\n",
    "print(f\"El tipo de objeto: {type(a)}\")\n",
    "print(f\"Su dimensión: {a.ndim}\")\n",
    "print(f\"Su forma: {a.shape}\")  # En un vector nos da la longitud\n",
    "print(f\"Imprimiendo cada elemento: {a[0]} {a[1]} {a[2]}\")\n",
    "# Cambiando un valor del vector\n",
    "a[0] = 5\n",
    "print(f\"El vector modificado: {a}\")\n",
    "\n",
    "print(\"\\nDatos de la matriz 'b'\")\n",
    "b = np.array([[1, 2 ,3],[4, 5, 6]])  # A partir de una lista de listas\n",
    "print(f\"La matriz\\n{b}\")\n",
    "print(f\"El tipo: {type(b)}\")\n",
    "print(f\"Su dimensión: {b.ndim}\")\n",
    "print(f\"Su forma: {b.shape}, es decir {b.shape[0]} filas y {b.shape[1]} columnas\")\n",
    "print(f\"Imprimiendo elementos: {b[0, 0]} {b[0, 1]} {b[1, 0]}\")\n",
    "# Cambiando un valor de la matriz\n",
    "b[1, 2] = 7\n",
    "print(f\"La matriz modificada:\\n{b}\")\n"
   ]
  },
  {
   "cell_type": "code",
   "execution_count": null,
   "id": "4f2e73cf-a417-40fc-868c-923bd35874c5",
   "metadata": {
    "id": "Synv7SePkJ5x"
   },
   "outputs": [],
   "source": [
    "# Ejercicio, hacer el caso anterior cambiando las listas por tuplas\n"
   ]
  },
  {
   "cell_type": "markdown",
   "id": "94253ee1-4d27-4929-884b-25fa77e1c5e7",
   "metadata": {},
   "source": [
    "### ***Accesando elementos de una matriz***"
   ]
  },
  {
   "cell_type": "code",
   "execution_count": 2,
   "id": "3a2769a5-5584-458f-96d0-199550757d89",
   "metadata": {},
   "outputs": [
    {
     "name": "stdout",
     "output_type": "stream",
     "text": [
      "[4 5 6]\n",
      "5\n"
     ]
    }
   ],
   "source": [
    "import numpy as np\n",
    "\n",
    "\n",
    "b = np.array([[1, 2 ,3],[4, 5, 6]])\n",
    "print(b[-1])\n",
    "print(b[-1, 1])\n"
   ]
  },
  {
   "cell_type": "markdown",
   "id": "82c5d2c5-7d42-41c8-9d8a-bfe68f458603",
   "metadata": {},
   "source": [
    "### ***Operaciones con arreglos numpy***"
   ]
  },
  {
   "cell_type": "code",
   "execution_count": 2,
   "id": "c17313ad-1b98-4448-b3a1-7bd98b3de7d8",
   "metadata": {},
   "outputs": [
    {
     "name": "stdout",
     "output_type": "stream",
     "text": [
      "- vector original\n",
      "[25.  12.  15.  66.  12.5 25.5]\n",
      "\n",
      "- sumarle 1 a cada elemento del vector\n",
      "[26.  13.  16.  67.  13.5 26.5]\n",
      "\n",
      "- multiplicar por 5 cada elemento del vector\n",
      "[125.   60.   75.  330.   62.5 127.5]\n",
      "\n",
      "- el vector sumado a si mismo\n",
      "[ 50.  24.  30. 132.  25.  51.]\n",
      "\n"
     ]
    }
   ],
   "source": [
    "import numpy as np\n",
    "\n",
    "\n",
    "lista = [25, 12, 15, 66, 12.5, 25.5]\n",
    "vector = np.array(lista)\n",
    "\n",
    "print(f\"- vector original\\n{vector}\\n\")\n",
    "print(f\"- sumarle 1 a cada elemento del vector\\n{vector + 1}\\n\")\n",
    "print(f\"- multiplicar por 5 cada elemento del vector\\n{vector * 5}\\n\")\n",
    "print(f\"- el vector sumado a si mismo\\n{vector + vector}\\n\")\n"
   ]
  },
  {
   "cell_type": "markdown",
   "id": "6b95b469-b2be-40cd-9189-a8541846cf8e",
   "metadata": {},
   "source": [
    "### ***Funciones de arreglos numpy***\n",
    "***sum(), mean(), max(), min(), shape()***"
   ]
  },
  {
   "cell_type": "code",
   "execution_count": null,
   "id": "55c5b3c7-ff0c-49e7-9d64-9cfc3a3c71ab",
   "metadata": {
    "id": "SydFSPHRlz5k"
   },
   "outputs": [],
   "source": [
    "import numpy as np\n",
    "\n",
    "\n",
    "lista = [25, 12, 15, 66, 12.5, 25.5]\n",
    "vector = np.array(lista)\n",
    "\n",
    "print(f\"- suma de los elementos: {np.sum(vector)}\\n\")\n",
    "print(f\"- promedio (media) de los elementos: {np.mean(vector)}\\n\")\n",
    "print(f\"- el valor máximo: {np.max(vector)}\\n\")\n",
    "print(f\"- el valor minimo: {np.min(vector)}\\n\")\n",
    "matriz = vector.reshape(3, 2)\n",
    "print(f\"- cambiando la forma del vector a una matriz 3x2\\n{matriz}\")\n"
   ]
  },
  {
   "cell_type": "markdown",
   "id": "8f61abf8-d776-494a-8998-ed0794e38462",
   "metadata": {},
   "source": [
    "### ***Sumando dos vectores***"
   ]
  },
  {
   "cell_type": "code",
   "execution_count": null,
   "id": "0297a358-51b3-451d-8a49-18bade010e2f",
   "metadata": {
    "id": "SydFSPHRlz5k"
   },
   "outputs": [],
   "source": [
    "import numpy as np\n",
    "\n",
    "\n",
    "vector1 = np.array([25, 12, 15, 66, 12.5, 25.5])\n",
    "print(f\"- vector1\\n{vector1}:\")\n",
    "vector2 = np.array([11, 55, 1.2, 7.4, -8, 23])\n",
    "print(f\"- vector2 (mismo tamaño)\\n{vector2}:\")\n",
    "print(f\"- suma de vectores vector1 y vector2 (mismo tamaño)\\n{vector1 + vector2}:\\n\")\n"
   ]
  },
  {
   "cell_type": "markdown",
   "id": "d2bd875f-2fc7-47a7-bd16-4fa5ec4badf2",
   "metadata": {},
   "source": [
    "### ***Funciones para crear matrices***\n",
    "\n",
    "***zeros(), ones(), full(), eye()***"
   ]
  },
  {
   "cell_type": "code",
   "execution_count": null,
   "id": "f5eaacae-4d29-45e7-918a-00d62d13c3e5",
   "metadata": {},
   "outputs": [],
   "source": [
    "import numpy as np\n",
    "\n",
    "\n",
    "a = np.zeros([2, 2])         # Crea una matriz con los valores igual a cero\n",
    "print(f\"{a}\\n\")\n",
    "\n",
    "b = np.ones((1, 3))          # Crea una matriz con todos los valores igual a 1\n",
    "print(f\"{b}\\n\")\n",
    "\n",
    "c = np.full((4, 4), 7)       # Crea una matriz nxn con un valor constante\n",
    "print(f\"{c}\\n\")\n",
    "\n",
    "d = np.eye(5)                # Crea una matriz identidad de nxn\n",
    "print(f\"{d}\\n\")\n"
   ]
  },
  {
   "cell_type": "markdown",
   "id": "23e2e51b-611f-4b8f-86c3-5e5273d23653",
   "metadata": {},
   "source": [
    "### ***Generando arreglos numpy con números aleatorios***\n",
    "***random.rand(fil, col), random.randint(valini, valfin, tamaño)***"
   ]
  },
  {
   "cell_type": "code",
   "execution_count": null,
   "id": "1b0ee197-f139-4808-8c95-6496ec1c3136",
   "metadata": {},
   "outputs": [],
   "source": [
    "import numpy as np\n",
    "\n",
    "\n",
    "a = np.random.rand(2, 3)  # Crea una matriz nxm con valores aleatorios entre 0 y 1\n",
    "print(f\"{a}\\n\")\n",
    "\n",
    "b = np.random.randint(0, 21, [3, 2]) # Con enteros\n",
    "print(f\"{b}\")\n"
   ]
  },
  {
   "cell_type": "markdown",
   "id": "e5cfebaf-aabe-4dfe-a055-49987fc10bbd",
   "metadata": {
    "id": "DfqdEK4jPaTg"
   },
   "source": [
    "## ***Slicing***"
   ]
  },
  {
   "cell_type": "code",
   "execution_count": null,
   "id": "785a3e66-d61c-4ada-ab56-223de90c2171",
   "metadata": {
    "id": "YUkx5PTmMO0Q"
   },
   "outputs": [],
   "source": [
    "# Slicing\n",
    "import numpy as np\n",
    "\n",
    "\n",
    "a = np.array([[1, 2, 3, 4], [5, 6, 7, 8], [9, 10, 11, 12]])\n",
    "\n",
    "# Usar slicing para extraer el sub arreglo que consta de las 2 primeras filas\n",
    "# y columnas 1 y 2; b es la siguiente matriz de forma (2, 2):\n",
    "# [[2 3]\n",
    "#  [6 7]]\n",
    "b = a[:2, 1:3]\n",
    "print(b)\n",
    "\n",
    "# Una porción de una matriz es una vista de los mismos datos,\n",
    "# por lo que modificarla la \"vista\" modificará la matriz original.\n",
    "\n",
    "print(a[0, 1])   # Prints \"2\"\n",
    "b[0, 0] = 77     # b[0, 0] is the same piece of data as a[0, 1]\n",
    "print(b[0, 0])\n",
    "print(a[0, 1])   # Prints \"77\"\n",
    "\n",
    "a[0, 1] = 66\n",
    "print(b[0, 0])\n"
   ]
  },
  {
   "cell_type": "markdown",
   "id": "152976df-772b-4e38-8b37-7665f54fe38b",
   "metadata": {
    "tags": []
   },
   "source": [
    "### ***El método nditer***"
   ]
  },
  {
   "cell_type": "code",
   "execution_count": null,
   "id": "359732c5-af7e-4597-bd69-78882820627a",
   "metadata": {
    "id": "ggG9IkwGxMAz"
   },
   "outputs": [],
   "source": [
    "# El método nditer\n",
    "import numpy as np\n",
    "\n",
    "\n",
    "arr = np.array([[1, 2], [3, 4], [5, 6], [7, 8]])\n",
    "print(f\"Número de dimensiones {arr.ndim}\")\n",
    "\n",
    "print(f\"Forma {arr.shape}\")\n",
    "print(f\"Arreglo\\n {arr}\")\n",
    "\n",
    "for x in np.nditer(arr):\n",
    "    print(f\"Valores del arreglo {x}\")\n"
   ]
  },
  {
   "cell_type": "markdown",
   "id": "e005aa5b-668d-4e2b-840f-783281784389",
   "metadata": {
    "id": "dtOrOHUjyV_L"
   },
   "source": [
    "### ***Método ndenumerate***"
   ]
  },
  {
   "cell_type": "code",
   "execution_count": null,
   "id": "054990f7-2b89-458b-beba-1ab2fac7ea59",
   "metadata": {
    "id": "1oH4XDvyyUbF"
   },
   "outputs": [],
   "source": [
    "import numpy as np\n",
    "\n",
    "\n",
    "arr = np.array([[1, 2, 3, 4], [5, 6, 7, 8]])\n",
    "for idx, x in np.ndenumerate(arr):\n",
    "    print(idx, x)\n"
   ]
  },
  {
   "attachments": {
    "fd81570f-df45-4b8c-b4fb-af40d54e2034.png": {
     "image/png": "[encoded data removed]"
    }
   },
   "cell_type": "markdown",
   "id": "19d18585-f259-4d1a-bcc5-835e0db03416",
   "metadata": {},
   "source": [
    "## ***Pandas***\n",
    "![image.png](attachment:fd81570f-df45-4b8c-b4fb-af40d54e2034.png)\n",
    "- La librería ***pandas*** deriva su nombre de panel data\n",
    "- Es un término usado para referirse a conjuntos de datos estructurados multidimensionales)\n",
    "- Proporciona estructuras de datos y funciones de alto nivel que nos permiten trabajar con datos estructurados de manera muy cómoda.\n",
    "- Estas estructuras y funciones son, normalmente, de las más usadas en análisis de datos.\n",
    "- Los principales objetos ofrecidos por pandas son:\n",
    "    - El ***dataframe***, estructura tabular bidimensional\n",
    "    - La ***serie***\n",
    "- Ambas basadas en el array multidimensional de ***numpy***"
   ]
  },
  {
   "cell_type": "code",
   "execution_count": 3,
   "id": "55dfbfef-6fb7-4568-b774-28c8a09ee2ce",
   "metadata": {},
   "outputs": [],
   "source": [
    "# Importando pandas\n",
    "import pandas as pd  # Es usaual que el alias sea pd\n"
   ]
  },
  {
   "cell_type": "markdown",
   "id": "1b7b5540-4dcb-44cb-8896-078ed270bbf1",
   "metadata": {},
   "source": [
    "### ***Estructuras de datos de Pandas***\n",
    "Pandas dispone de tres estructuras de datos diferentes:\n",
    "\n",
    "* **Series**:    Estructura de una dimensión, análogo a una columna de hoja de cálculo\n",
    "* **DataFrame**: Estructura de dos dimensiones (tablas). Análogo a una hoja de cálculo\n",
    "* **Panel**:     Estructura de tres dimensiones (cubos). Análogo a multiples hojas de cálculo (no se verá en el curso)"
   ]
  },
  {
   "cell_type": "markdown",
   "id": "a0c2b0cd-5e23-4f50-a932-74a07020ecdc",
   "metadata": {
    "tags": []
   },
   "source": [
    "### ***La clase de objetos Series***\n",
    "- Las series son estructuras unidimensionales conteniendo:\n",
    "    - Un array de datos (de cualquier tipo soportado por NumPy)\n",
    "    - Un array de etiquetas que van asociadas a los datos, llamado índice.\n",
    "- El índice asocia un nombre a cada elemento del la serie, a través de la cuál se accede al elemento."
   ]
  },
  {
   "cell_type": "markdown",
   "id": "44500da7-fc6c-47d5-a090-e9b6ded0a263",
   "metadata": {},
   "source": [
    "### ***Ejemplo***\n",
    "La siguiente serie contiene las asignaturas de un curso.\n",
    "|Índice|A1|A2|A3|A4|\n",
    "|:---|:---:|:---:|:---:|:---:|\n",
    "|Valores|Matemáticas|Economía|Programación|Inglés|\n",
    "\n",
    "- Las series pandas tienen la siguiente sintaxis\n",
    "    - pandas.Series(data, index, dtype, name)"
   ]
  },
  {
   "cell_type": "code",
   "execution_count": 4,
   "id": "758e506f-a952-4178-9af1-32df658ad89e",
   "metadata": {},
   "outputs": [
    {
     "name": "stdout",
     "output_type": "stream",
     "text": [
      "Imprimiendo el DataFrame \n",
      "A1     Matemáticas\n",
      "A2        Historia\n",
      "A3        Economía\n",
      "A4    Programación\n",
      "A5          Inglés\n",
      "Name: Cursos, dtype: string\n"
     ]
    }
   ],
   "source": [
    "# Creando series\n",
    "# index, dtype y name son opcionales\n",
    "# Cuando no se pone index, se asigna por defecto 0, 1, 2...\n",
    "import pandas as pd\n",
    "\n",
    "\n",
    "s = pd.Series(\n",
    "    [\"Matemáticas\", \"Historia\", \"Economía\", \"Programación\", \"Inglés\"],\n",
    "    index=[\"A1\", \"A2\", \"A3\", \"A4\", \"A5\"],\n",
    "    dtype=\"string\",\n",
    "    name=\"Cursos\",\n",
    ")\n",
    "\n",
    "print(f\"Imprimiendo el DataFrame \\n{s}\")\n"
   ]
  },
  {
   "cell_type": "code",
   "execution_count": 5,
   "id": "c1022634-322d-47ce-9be4-f2c8eef71f34",
   "metadata": {},
   "outputs": [
    {
     "name": "stdout",
     "output_type": "stream",
     "text": [
      "Ene    15\n",
      "Feb    12\n",
      "Mar    21\n",
      "dtype: int64\n",
      "Index(['Ene', 'Feb', 'Mar'], dtype='object')\n"
     ]
    }
   ],
   "source": [
    "# Otro ejemplo\n",
    "import pandas as pd\n",
    "\n",
    "\n",
    "ventas = pd.Series([15, 12, 21], index = [\"Ene\", \"Feb\", \"Mar\"])\n",
    "print(ventas)\n",
    "print(ventas.index)\n"
   ]
  },
  {
   "cell_type": "code",
   "execution_count": 6,
   "id": "5fbc809f-4e64-46a9-8ffd-ed68010ffef0",
   "metadata": {},
   "outputs": [
    {
     "name": "stdout",
     "output_type": "stream",
     "text": [
      "0    145\n",
      "1    142\n",
      "2     38\n",
      "3     13\n",
      "Name: counts, dtype: int64\n",
      "RangeIndex(start=0, stop=4, step=1)\n"
     ]
    }
   ],
   "source": [
    "# Otro ejemplo\n",
    "import pandas as pd\n",
    "\n",
    "\n",
    "songs = pd.Series([145, 142, 38, 13], name=\"counts\")\n",
    "print(songs)\n",
    "print(songs.index)\n"
   ]
  },
  {
   "cell_type": "markdown",
   "id": "1e569483-aaa9-4503-942f-5602e6e4b3a6",
   "metadata": {},
   "source": [
    "### ***Creación de una serie a partir de un diccionario***\n",
    "- Sintaxis\n",
    "    - Series(data=valores, index=indices)\n",
    "- Devuelve un objeto de tipo Series con los valores del diccionario y las filas especificados en la lista indices.\n",
    "- Si no se pasa la lista de índices se utilizan como índices las claves del diccionario."
   ]
  },
  {
   "cell_type": "code",
   "execution_count": 7,
   "id": "9ae6aefa-40d7-408e-a535-6b6e7268c6e8",
   "metadata": {},
   "outputs": [
    {
     "name": "stdout",
     "output_type": "stream",
     "text": [
      "Matemáticas     6.0\n",
      "Economía        4.5\n",
      "Programación    8.5\n",
      "dtype: float64\n"
     ]
    }
   ],
   "source": [
    "# Creación desde un diccionario\n",
    "import pandas as pd\n",
    "\n",
    "s = pd.Series({\"Matemáticas\": 6.0, \"Economía\": 4.5, \"Programación\": 8.5})\n",
    "print(s)\n"
   ]
  },
  {
   "cell_type": "markdown",
   "id": "9fe21d47-6e41-4bfc-bc73-233610c52e2f",
   "metadata": {},
   "source": [
    "### ***Creación de una serie a partir de un array numpy***"
   ]
  },
  {
   "cell_type": "code",
   "execution_count": 8,
   "id": "eac88ba3-243e-4638-8c50-727041c75ee6",
   "metadata": {},
   "outputs": [
    {
     "name": "stdout",
     "output_type": "stream",
     "text": [
      "R1    1\n",
      "R2    2\n",
      "R3    3\n",
      "R4    4\n",
      "R5    5\n",
      "dtype: int32\n"
     ]
    }
   ],
   "source": [
    "import pandas as pd\n",
    "import numpy as np\n",
    "\n",
    "\n",
    "arr = np.array([1, 2, 3, 4, 5])\n",
    "indices = [\"R1\", \"R2\", \"R3\", \"R4\", \"R5\"]\n",
    "s = pd.Series(arr, index=indices)\n",
    "print(s)\n"
   ]
  },
  {
   "cell_type": "code",
   "execution_count": 9,
   "id": "5f1e5780-df50-467d-bced-57426b60a01c",
   "metadata": {},
   "outputs": [
    {
     "name": "stdout",
     "output_type": "stream",
     "text": [
      "R1    1\n",
      "R2    2\n",
      "R3    3\n",
      "R4    4\n",
      "R5    5\n",
      "dtype: int32\n",
      "R1    1\n",
      "R2    2\n",
      "R3    3\n",
      "R4    4\n",
      "R5    5\n",
      "dtype: int32\n"
     ]
    }
   ],
   "source": [
    "import pandas as pd\n",
    "import numpy as np\n",
    "\n",
    "\n",
    "s = pd.Series(np.array([1, 2, 3, 4, 5]), index = ['R1', 'R2', 'R3', 'R4', 'R5'])\n",
    "print(s)\n",
    "\n",
    "s = pd.Series(np.array((1, 2, 3, 4, 5)), index = ('R1', 'R2', 'R3', 'R4', 'R5'))\n",
    "print(s)\n"
   ]
  },
  {
   "cell_type": "markdown",
   "id": "377902ae-0926-486e-89ec-eab3b6d8317c",
   "metadata": {},
   "source": [
    "### ***Acceso a los elementos de una serie***\n",
    "El acceso a los elementos de un objeto del tipo Series puede ser a través de posiciones o través de índices (nombres)."
   ]
  },
  {
   "cell_type": "code",
   "execution_count": 10,
   "id": "bc5f7ae7-37c8-415b-813e-43639d821638",
   "metadata": {},
   "outputs": [
    {
     "name": "stdout",
     "output_type": "stream",
     "text": [
      "Matemáticas     6.0\n",
      "Economía        4.5\n",
      "Programación    8.5\n",
      "dtype: float64\n",
      "Economía        4.5\n",
      "Programación    8.5\n",
      "dtype: float64\n",
      "4.5\n",
      "Economía    4.5\n",
      "dtype: float64\n",
      "Programación    8.5\n",
      "Matemáticas     6.0\n",
      "dtype: float64\n"
     ]
    }
   ],
   "source": [
    "import pandas as pd\n",
    "\n",
    "\n",
    "s = pd.Series({\"Matemáticas\": 6.0, \"Economía\": 4.5, \"Programación\": 8.5})\n",
    "print(s)\n",
    "\n",
    "# Con Slicing\n",
    "print(s[1:])\n",
    "\n",
    "# Con índices\n",
    "a = s[\"Economía\"]\n",
    "print(a)\n",
    "\n",
    "a = s[[\"Economía\"]]\n",
    "print(a)\n",
    "\n",
    "print(s[[\"Programación\", \"Matemáticas\"]])\n"
   ]
  },
  {
   "cell_type": "markdown",
   "id": "e076fd54-765d-4fc3-9d94-75cbd84219e0",
   "metadata": {},
   "source": [
    "### ***Otros temas***"
   ]
  },
  {
   "cell_type": "code",
   "execution_count": 11,
   "id": "d665ab97-5ecc-4f8c-980a-d5fc355312a1",
   "metadata": {},
   "outputs": [
    {
     "name": "stdout",
     "output_type": "stream",
     "text": [
      "Ene    15\n",
      "Feb    12\n",
      "Mar    21\n",
      "dtype: int64\n",
      "Index(['Ene', 'Feb', 'Mar'], dtype='object')\n",
      "[15 12 21]\n"
     ]
    }
   ],
   "source": [
    "import pandas as pd\n",
    "\n",
    "\n",
    "ventas = pd.Series([15, 12, 21], index=[\"Ene\", \"Feb\", \"Mar\"])\n",
    "print(ventas)\n",
    "print(ventas.index)\n",
    "print(ventas.values)\n"
   ]
  },
  {
   "cell_type": "code",
   "execution_count": 12,
   "id": "5e771431-a18c-49ee-ae9a-1c93643d234a",
   "metadata": {},
   "outputs": [
    {
     "name": "stdout",
     "output_type": "stream",
     "text": [
      "Meses\n",
      "Ene    15\n",
      "Feb    12\n",
      "Mar    21\n",
      "Name: Ventas 2022, dtype: int64\n"
     ]
    }
   ],
   "source": [
    "ventas.name = \"Ventas 2022\"\n",
    "ventas.index.name = \"Meses\"\n",
    "print(ventas)\n"
   ]
  },
  {
   "cell_type": "code",
   "execution_count": 13,
   "id": "d8245593-c215-48c8-9315-93bae063f8a1",
   "metadata": {},
   "outputs": [
    {
     "name": "stdout",
     "output_type": "stream",
     "text": [
      "[Index(['Ene', 'Feb', 'Mar'], dtype='object', name='Meses')]\n",
      "(3,)\n",
      "1\n"
     ]
    }
   ],
   "source": [
    "print(ventas.axes)\n",
    "print(ventas.shape)\n",
    "print(ventas.ndim)\n"
   ]
  },
  {
   "attachments": {},
   "cell_type": "markdown",
   "id": "3575b0a6-fc9a-4e77-90f6-b9de75721794",
   "metadata": {},
   "source": [
    "## ***Introducción a los DataFrames***\n",
    "\n",
    "- Los dataframes son estructuras tabulares de datos orientadas a columnas, con etiquetas o índices tanto en filas como en columnas y y se puede acceder a sus elementos mediante los nombres de las filas y las columnas.\n",
    "- Cada columna es un objeto de tipo Series, es decir, todos los datos de una misma columna son del mismo tipo, y las filas son registros que pueden contender datos de distintos tipos.\n",
    "- El DataFrame de la figura contiene información sobre los alumnos de un curso. Cada fila corresponde a un alumno y cada columna a una variable."
   ]
  },
  {
   "attachments": {
    "c745afc7-b4c6-40cb-95c6-b15e8bf2cef5.png": {
     "image/png": "[encoded data removed]"
    }
   },
   "cell_type": "markdown",
   "id": "fbb64f8f-fbc0-44a4-8ab2-2b6628a45d22",
   "metadata": {},
   "source": [
    "![image.png](attachment:c745afc7-b4c6-40cb-95c6-b15e8bf2cef5.png)"
   ]
  },
  {
   "attachments": {},
   "cell_type": "markdown",
   "id": "68736b5f-94d2-4008-9f0e-ea575b86de4e",
   "metadata": {},
   "source": [
    "### ***Sintaxis para la creación de un DataFrame***\n",
    "- pandas.DataFrame(data, index , columns , dtype)\n",
    "- Donde:\n",
    "    - data: los datos toman varias formas como ndarray, series, map, listas, dict, constantes y también otro DataFrame\n",
    "    - index: Para las etiquetas de fila que se van a utilizar en el DataFramee. Es opcional, se númera desde 0 si no se pasa ningún índice\n",
    "    - columns: Para las etiquetas de columnaes, es opcional, se númera desde 0 si no se pasa ningún índice de columna\n",
    "    - dtype: Tipo de datos de cada columa."
   ]
  },
  {
   "attachments": {},
   "cell_type": "markdown",
   "id": "9d434383-35c5-46db-9321-8bd7d43d694e",
   "metadata": {},
   "source": [
    "### ***Creación de un DataFrame a partir de un diccionario***\n",
    "- Cuando se crea un **DataFrame** a partir de un diccionario\n",
    "- Los valores que son listas, serán los datos de las columnas\n",
    "- Si no se pasa la lista de filas se utilizan como nombres los enteros empezando en 0.\n",
    "- Si no se pasa la lista de columnas se utilizan como nombres las claves del diccionario.\n",
    "- Si no se pasa la lista de tipos, se infiere."
   ]
  },
  {
   "cell_type": "code",
   "execution_count": 1,
   "id": "7f1f0fb7-1905-41f2-a77b-3c4c57310fe3",
   "metadata": {},
   "outputs": [],
   "source": [
    "# Esto se utiliza para que al desplegar el DataFrame, no se divida\n",
    "# en dos líneas muy rápidamente\n",
    "import pandas as pd\n",
    "\n",
    "\n",
    "pd.set_option('display.expand_frame_repr', False)\n"
   ]
  },
  {
   "cell_type": "code",
   "execution_count": 4,
   "id": "e9afb1d0-32f9-4a02-8421-8a105a0854e2",
   "metadata": {},
   "outputs": [
    {
     "name": "stdout",
     "output_type": "stream",
     "text": [
      "           nombre  edad         grado             correo\n",
      "Alumno 1    María    18      Economía    maria@gmail.com\n",
      "Alumno 2     Luis    22      Medicina      luis@yahoo.es\n",
      "Alumno 3   Carmen    20  Arquitectura   carmen@gmail.com\n",
      "Alumno 4  Antonio    21      Economía  antonio@gmail.com\n"
     ]
    }
   ],
   "source": [
    "# Primer ejemplo\n",
    "import pandas as pd\n",
    "\n",
    "\n",
    "datos = {\n",
    "    \"nombre\": [\"María\", \"Luis\", \"Carmen\", \"Antonio\"],\n",
    "    \"edad\": [18, 22, 20, 21],\n",
    "    \"grado\": [\"Economía\", \"Medicina\", \"Arquitectura\", \"Economía\"],\n",
    "    \"correo\": [\n",
    "        \"maria@gmail.com\",\n",
    "        \"luis@yahoo.es\",\n",
    "        \"carmen@gmail.com\",\n",
    "        \"antonio@gmail.com\",\n",
    "    ],\n",
    "}\n",
    "df = pd.DataFrame(datos, index=[\"Alumno 1\", \"Alumno 2\", \"Alumno 3\", \"Alumno 4\"])\n",
    "print(df)\n"
   ]
  },
  {
   "attachments": {},
   "cell_type": "markdown",
   "id": "95b50d64-3726-490c-b91e-26bf843dc19d",
   "metadata": {},
   "source": [
    "### ***Creación de un DataFrame a partir de una lista de listas***"
   ]
  },
  {
   "cell_type": "code",
   "execution_count": 7,
   "id": "c0beb657-dcee-484c-9a62-d8a8a579c989",
   "metadata": {},
   "outputs": [
    {
     "name": "stdout",
     "output_type": "stream",
     "text": [
      "            Nombre  Edad\n",
      "Alumno 1     María    18\n",
      "Alumno 2      Luis    22\n",
      "Alumno 3    Carmen    20\n",
      "Alumno 4  Alberto1    19\n"
     ]
    }
   ],
   "source": [
    "import pandas as pd\n",
    "\n",
    "\n",
    "df = pd.DataFrame(\n",
    "    [[\"María\", 18], [\"Luis\", 22], [\"Carmen\", 20], [\"Alberto1\",19]],\n",
    "    columns=[\"Nombre\", \"Edad\"],\n",
    "    index=[\"Alumno 1\", \"Alumno 2\", \"Alumno 3\", \"Alumno 4\"]\n",
    ")\n",
    "print(df)\n"
   ]
  },
  {
   "attachments": {},
   "cell_type": "markdown",
   "id": "4bb72a46-92bb-4286-87ef-10e19cd770f1",
   "metadata": {},
   "source": [
    "### ***Creación de un DataFrame a partir de un array numpy***"
   ]
  },
  {
   "cell_type": "code",
   "execution_count": 1,
   "id": "a9e9720f-79ef-4722-9e2a-e61631583089",
   "metadata": {},
   "outputs": [
    {
     "name": "stdout",
     "output_type": "stream",
     "text": [
      "          a         b         c\n",
      "0  0.346862  0.061218  0.693165\n",
      "1  0.857214  0.228026  0.424303\n",
      "2  0.754326  0.820323  0.353298\n",
      "3  0.191750  0.971021  0.546328\n"
     ]
    }
   ],
   "source": [
    "import numpy as np\n",
    "import pandas as pd\n",
    "\n",
    "\n",
    "df = pd.DataFrame(np.random.rand(4, 3), columns=[\"a\", \"b\", \"c\"])\n",
    "print(df)\n"
   ]
  },
  {
   "attachments": {},
   "cell_type": "markdown",
   "id": "c9e89183-2baf-46ef-b8c3-9c67aeed1c49",
   "metadata": {},
   "source": [
    "## ***Creación de un DataFrame a partir de un fichero CSV o Excel***\n",
    "- ***Sintaxis para leer un archivo CSV***\n",
    "    - read_csv(fichero.csv, sep=separador, header=n, index_col=m, na_values=no-validos, decimal=separador-decimal, encoding=valor)\n",
    "    - Solo el primer parámetro es obligatorio\n",
    "- ***Sintaxis para leer un archivo Excel***\n",
    "    - read_excel(fichero.xlsx, sheet_name=hoja, header=n, index_col=m, na_values=no-validos, decimal=separador-decimal)\n",
    "    - Solo el primer parámetro es obligatorio"
   ]
  },
  {
   "cell_type": "code",
   "execution_count": null,
   "id": "a35fd31d-ed4f-48c4-a443-d5516bad3b0a",
   "metadata": {},
   "outputs": [],
   "source": [
    "# Si va a trabajar en Google Colab debe hacer esto primero para leer un archivo en alguna\n",
    "# carpeta de Google Drive. Esto se hace una vez, pero cada vez que ingresa al Google colab\n",
    "from google.colab import drive\n",
    "drive.mount('/content/gdrive', force_remount=True)\n",
    "\n",
    "# Luego, si por ejemplo tiene una carpeta Arpd donde se encuentra el archivo\n",
    "# colesteroles.csv, para leerlo debe escribir (ver siguiente celda)\n"
   ]
  },
  {
   "cell_type": "code",
   "execution_count": null,
   "id": "b29f9acf-d7a7-46ad-b415-f07566ddcdce",
   "metadata": {},
   "outputs": [],
   "source": [
    "import pandas as pd\n",
    "\n",
    "\n",
    "# Importación del fichero datos-colesteroles.csv\n",
    "df = pd.read_csv('/content/gdrive/MyDrive/ArPd/colesteroles.csv',\n",
    "                 sep=';', decimal=',')\n",
    "print(df.head())\n",
    "# Pruebelo en Google Colab\n"
   ]
  },
  {
   "attachments": {},
   "cell_type": "markdown",
   "id": "cfe63a5c-a4de-4184-bdd4-24e8fec5b398",
   "metadata": {},
   "source": [
    "### ***Leyendo CSV y Excel***"
   ]
  },
  {
   "cell_type": "code",
   "execution_count": 4,
   "id": "4fa7c538-490e-4aed-8b4d-5852170d7d62",
   "metadata": {},
   "outputs": [
    {
     "name": "stdout",
     "output_type": "stream",
     "text": [
      "\n",
      "                         nombre  edad sexo  peso  altura  colesterol\n",
      "0  José Luis Martínez Izquierdo    18    H  85.0    1.79       182.0\n",
      "1                Rosa Díaz Díaz    32    M  65.0    1.73       232.0\n",
      "2         Javier García Sánchez    24    H   NaN    1.81       191.0\n",
      "3           Carmen López Pinzón    35    M  65.0    1.70       200.0\n",
      "4          Marisa López Collado    46    M  51.0    1.58       148.0\n",
      "\n",
      "                             nombre  edad sexo   peso  altura  colesterol\n",
      "9           Santiago Reillo Manzano    46    H   75.0    1.85       280.0\n",
      "10            Macarena Álvarez Luna    53    M   55.0    1.62       262.0\n",
      "11       José María de la Guía Sanz    58    H   78.0    1.87       198.0\n",
      "12  Miguel Angel Cuadrado Gutiérrez    27    H  109.0    1.98       210.0\n",
      "13            Carolina Rubio Moreno    20    M   61.0    1.77       194.0\n",
      "\n",
      "                             nombre  edad sexo   peso  altura  colesterol\n",
      "0      José Luis Martínez Izquierdo    18    H   85.0    1.79       182.0\n",
      "1                    Rosa Díaz Díaz    32    M   65.0    1.73       232.0\n",
      "2             Javier García Sánchez    24    H    NaN    1.81       191.0\n",
      "3               Carmen López Pinzón    35    M   65.0    1.70       200.0\n",
      "4              Marisa López Collado    46    M   51.0    1.58       148.0\n",
      "5                 Antonio Ruiz Cruz    68    H   66.0    1.74       249.0\n",
      "6           Antonio Fernández Ocaña    51    H   62.0    1.72       276.0\n",
      "7             Pilar Martín González    22    M   60.0    1.66         NaN\n",
      "8              Pedro Gálvez Tenorio    35    H   90.0    1.94       241.0\n",
      "9           Santiago Reillo Manzano    46    H   75.0    1.85       280.0\n",
      "10            Macarena Álvarez Luna    53    M   55.0    1.62       262.0\n",
      "11       José María de la Guía Sanz    58    H   78.0    1.87       198.0\n",
      "12  Miguel Angel Cuadrado Gutiérrez    27    H  109.0    1.98       210.0\n",
      "13            Carolina Rubio Moreno    20    M   61.0    1.77       194.0\n"
     ]
    }
   ],
   "source": [
    "import pandas as pd\n",
    "\n",
    "\n",
    "df = pd.read_csv(\"colesteroles.csv\", sep=\";\", decimal=\",\")\n",
    "print(f\"\\n{df.head()}\")\n",
    "print(f\"\\n{df.tail()}\")\n",
    "print(f\"\\n{df}\")\n"
   ]
  },
  {
   "cell_type": "code",
   "execution_count": 6,
   "id": "5ed759e3-d14f-4f26-9a5b-c273a4c2ca2d",
   "metadata": {},
   "outputs": [
    {
     "name": "stdout",
     "output_type": "stream",
     "text": [
      "\n",
      "                         nombre  edad sexo  peso  altura  colesterol\n",
      "0  José Luis Martínez Izquierdo    18    H  85.0    1.79       182.0\n",
      "1                Rosa Díaz Díaz    32    M  65.0    1.73       232.0\n",
      "2         Javier García Sánchez    24    H   NaN    1.81       191.0\n",
      "3           Carmen López Pinzón    35    M  65.0    1.70       200.0\n",
      "4          Marisa López Collado    46    M  51.0    1.58       148.0\n",
      "\n",
      "                             nombre  edad sexo   peso  altura  colesterol\n",
      "9           Santiago Reillo Manzano    46    H   75.0    1.85       280.0\n",
      "10            Macarena Álvarez Luna    53    M   55.0    1.62       262.0\n",
      "11       José María de la Guía Sanz    58    H   78.0    1.87       198.0\n",
      "12  Miguel Angel Cuadrado Gutiérrez    27    H  109.0    1.98       210.0\n",
      "13            Carolina Rubio Moreno    20    M   61.0    1.77       194.0\n",
      "\n",
      "                             nombre  edad sexo   peso  altura  colesterol\n",
      "0      José Luis Martínez Izquierdo    18    H   85.0    1.79       182.0\n",
      "1                    Rosa Díaz Díaz    32    M   65.0    1.73       232.0\n",
      "2             Javier García Sánchez    24    H    NaN    1.81       191.0\n",
      "3               Carmen López Pinzón    35    M   65.0    1.70       200.0\n",
      "4              Marisa López Collado    46    M   51.0    1.58       148.0\n",
      "5                 Antonio Ruiz Cruz    68    H   66.0    1.74       249.0\n",
      "6           Antonio Fernández Ocaña    51    H   62.0    1.72       276.0\n",
      "7             Pilar Martín González    22    M   60.0    1.66         NaN\n",
      "8              Pedro Gálvez Tenorio    35    H   90.0    1.94       241.0\n",
      "9           Santiago Reillo Manzano    46    H   75.0    1.85       280.0\n",
      "10            Macarena Álvarez Luna    53    M   55.0    1.62       262.0\n",
      "11       José María de la Guía Sanz    58    H   78.0    1.87       198.0\n",
      "12  Miguel Angel Cuadrado Gutiérrez    27    H  109.0    1.98       210.0\n",
      "13            Carolina Rubio Moreno    20    M   61.0    1.77       194.0\n"
     ]
    }
   ],
   "source": [
    "import pandas as pd\n",
    "\n",
    "\n",
    "df = pd.read_excel(\"colesteroles.xlsx\", sheet_name=\"Colesterol\",decimal=\",\")\n",
    "print(f\"\\n{df.head()}\")\n",
    "print(f\"\\n{df.tail()}\")\n",
    "print(f\"\\n{df}\")\n"
   ]
  },
  {
   "attachments": {},
   "cell_type": "markdown",
   "id": "5686df7b-b4a0-410c-b14b-4f1f875c7739",
   "metadata": {},
   "source": [
    "### ***Añadiendo columnas y filas a un Dataframe y escribir en CSV***\n",
    "Usando ***concat()***"
   ]
  },
  {
   "cell_type": "code",
   "execution_count": 8,
   "id": "bc456491-2d59-4b9a-b355-9fc234df37b5",
   "metadata": {},
   "outputs": [
    {
     "name": "stdout",
     "output_type": "stream",
     "text": [
      "                             nombre edad sexo   peso altura colesterol\n",
      "10            Macarena Álvarez Luna   53    M   55.0   1.62      262.0\n",
      "11       José María de la Guía Sanz   58    H   78.0   1.87      198.0\n",
      "12  Miguel Angel Cuadrado Gutiérrez   27    H  109.0   1.98      210.0\n",
      "13            Carolina Rubio Moreno   20    M   61.0   1.77      194.0\n",
      "14                     Carlos Rivas   28    H   89.0   1.78      245.0\n",
      "\n",
      "                             nombre edad sexo   peso altura colesterol  \\\n",
      "10            Macarena Álvarez Luna   53    M   55.0   1.62      262.0   \n",
      "11       José María de la Guía Sanz   58    H   78.0   1.87      198.0   \n",
      "12  Miguel Angel Cuadrado Gutiérrez   27    H  109.0   1.98      210.0   \n",
      "13            Carolina Rubio Moreno   20    M   61.0   1.77      194.0   \n",
      "14                     Carlos Rivas   28    H   89.0   1.78      245.0   \n",
      "\n",
      "   diabetes  \n",
      "10       Si  \n",
      "11       No  \n",
      "12       Si  \n",
      "13       No  \n",
      "14      NaN  \n",
      "\n",
      "                             nombre  edad sexo   peso altura colesterol  \\\n",
      "10            Macarena Álvarez Luna    53    M   55.0   1.62      262.0   \n",
      "11       José María de la Guía Sanz    58    H   78.0   1.87      198.0   \n",
      "12  Miguel Angel Cuadrado Gutiérrez    27    H  109.0   1.98      210.0   \n",
      "13            Carolina Rubio Moreno    20    M   61.0   1.77      194.0   \n",
      "14                     Carlos Rivas    28    H   89.0   1.78      245.0   \n",
      "\n",
      "   diabetes  \n",
      "10       Si  \n",
      "11       No  \n",
      "12       Si  \n",
      "13       No  \n",
      "14      NaN  \n"
     ]
    }
   ],
   "source": [
    "# Leyendo datos de un archivo CSV y # Añadiendo filas\n",
    "import numpy as np\n",
    "import pandas as pd\n",
    "\n",
    "\n",
    "# Importación del fichero datos-colesteroles.csv\n",
    "colesterol_csv = pd.read_csv(\"colesteroles.csv\", sep=\";\", decimal=\",\")\n",
    "\n",
    "# Crea un dataframe con la misma forma del anterior\n",
    "# Vamos a utilizar columns.values para obtener el nombre de las columnas\n",
    "columnas = colesterol_csv.columns.values\n",
    "nueva_fila = pd.DataFrame(\n",
    "    np.array([[\"Carlos Rivas\", 28, \"H\", 89.0, 1.78, 245.0]]), columns=columnas\n",
    ")\n",
    "\n",
    "colesterol_csv = pd.concat([colesterol_csv, nueva_fila], ignore_index=True)\n",
    "\n",
    "print(f\"{colesterol_csv.tail()}\")\n"
   ]
  },
  {
   "attachments": {},
   "cell_type": "markdown",
   "id": "915bc65e-6ed6-48bb-876f-afe40a8a1286",
   "metadata": {},
   "source": [
    "### ***Añadiendo columnas y filas a un Dataframe y escribir en Excel***"
   ]
  },
  {
   "cell_type": "code",
   "execution_count": 10,
   "id": "8b9d9323",
   "metadata": {},
   "outputs": [
    {
     "name": "stdout",
     "output_type": "stream",
     "text": [
      "['nombre' 'edad' 'sexo' 'peso' 'altura' 'colesterol']\n",
      "         nombre edad sexo  peso altura colesterol\n",
      "0  Carlos Rivas   28    H  89.0   1.78      245.0\n"
     ]
    }
   ],
   "source": [
    "import numpy as np\n",
    "import pandas as pd\n",
    "\n",
    "colesterol_csv = pd.read_csv(\"colesteroles.csv\", sep=\";\", decimal=\",\")\n",
    "columnas = colesterol_csv.columns.values\n",
    "print(columnas)\n",
    "\n",
    "nueva_fila = pd.DataFrame(\n",
    "    np.array([[\"Carlos Rivas\", 28, \"H\", 89.0, 1.78, 245.0]]), columns=columnas\n",
    ")\n",
    "print(nueva_fila)"
   ]
  },
  {
   "cell_type": "code",
   "execution_count": 12,
   "id": "73f2fca5-4f39-4326-b2db-ea0c6f66c497",
   "metadata": {},
   "outputs": [
    {
     "name": "stdout",
     "output_type": "stream",
     "text": [
      "                             nombre edad sexo   peso altura colesterol\n",
      "10            Macarena Álvarez Luna   53    M   55.0   1,62      262.0\n",
      "11       José María de la Guía Sanz   58    H   78.0   1,87      198.0\n",
      "12  Miguel Angel Cuadrado Gutiérrez   27    H  109.0   1,98      210.0\n",
      "13            Carolina Rubio Moreno   20    M   61.0   1,77      194.0\n",
      "14                     Carlos Rivas   28    H   89.0   1.78      245.0\n",
      "\n",
      "                             nombre  edad sexo   peso altura  colesterol  \\\n",
      "10            Macarena Álvarez Luna    53    M   55.0   1,62       262.0   \n",
      "11       José María de la Guía Sanz    58    H   78.0   1,87       198.0   \n",
      "12  Miguel Angel Cuadrado Gutiérrez    27    H  109.0   1,98       210.0   \n",
      "13            Carolina Rubio Moreno    20    M   61.0   1,77       194.0   \n",
      "14                     Carlos Rivas    28    H   89.0   1.78       245.0   \n",
      "\n",
      "   diabetes  \n",
      "10       Si  \n",
      "11       No  \n",
      "12       Si  \n",
      "13       No  \n",
      "14      NaN  \n"
     ]
    }
   ],
   "source": [
    "import numpy as np\n",
    "import pandas as pd\n",
    "\n",
    "# Importación del fichero datos-colesteroles.xlsx\n",
    "colesterol_xlsx = pd.read_excel(\"colesteroles.xlsx\", sheet_name=\"Colesterol\")\n",
    "\n",
    "# Crea un data frame con la misma forma del anterior\n",
    "columnas = colesterol_xlsx.columns.values\n",
    "nueva_fila = pd.DataFrame(\n",
    "    np.array([[\"Carlos Rivas\", 28, \"H\", 89.0, 1.78, 245.0]]), columns=columnas\n",
    ")\n",
    "\n",
    "colesterol_xlsx = pd.concat([colesterol_xlsx, nueva_fila], ignore_index=True)\n",
    "\n",
    "print(f\"{colesterol_xlsx.tail()}\")\n",
    "\n",
    "# Añade columna\n",
    "colesterol_xlsx[\"diabetes\"] = pd.Series(\n",
    "    [\"No\", \"No\", \"Si\", \"No\", \"Si\", \"No\", \"Si\", \"No\", \"Si\", \"No\", \"Si\", \"No\", \"Si\", \"No\"]\n",
    ")\n",
    "\n",
    "colesterol_xlsx.to_excel(\n",
    "    \"colesteroles1.xlsx\", sheet_name=\"Colesterol\", index=False\n",
    ")\n",
    "\n",
    "# Probamos leyendo nuevamente el archivo colesteroles.xlsx\n",
    "colesterol_xlsx1 = pd.read_excel(\"colesteroles1.xlsx\", sheet_name=\"Colesterol\")\n",
    "\n",
    "print(f\"\\n{colesterol_xlsx1.tail()}\")\n"
   ]
  },
  {
   "cell_type": "code",
   "execution_count": 11,
   "id": "7cbcca2e",
   "metadata": {},
   "outputs": [
    {
     "name": "stdout",
     "output_type": "stream",
     "text": [
      "                             nombre edad sexo   peso altura colesterol\n",
      "10            Macarena Álvarez Luna   53    M   55.0   1,62      262.0\n",
      "11       José María de la Guía Sanz   58    H   78.0   1,87      198.0\n",
      "12  Miguel Angel Cuadrado Gutiérrez   27    H  109.0   1,98      210.0\n",
      "13            Carolina Rubio Moreno   20    M   61.0   1,77      194.0\n",
      "14                     Carlos Rivas   28    H   89.0   1.78      245.0\n"
     ]
    }
   ],
   "source": [
    "import numpy as np\n",
    "import pandas as pd\n",
    "\n",
    "# Importación del fichero datos-colesteroles.xlsx\n",
    "colesterol_xlsx = pd.read_excel(\"colesteroles.xlsx\", sheet_name=\"Colesterol\")\n",
    "\n",
    "# Crea un data frame con la misma forma del anterior\n",
    "columnas = colesterol_xlsx.columns.values\n",
    "nueva_fila = pd.DataFrame(\n",
    "    np.array([[\"Carlos Rivas\", 28, \"H\", 89.0, 1.78, 245.0]]), columns=columnas\n",
    ")\n",
    "\n",
    "colesterol_xlsx = pd.concat([colesterol_xlsx, nueva_fila], ignore_index=True)\n",
    "\n",
    "print(f\"{colesterol_xlsx.tail()}\")"
   ]
  },
  {
   "attachments": {},
   "cell_type": "markdown",
   "id": "43faf5bb-67f6-4d60-9538-c978a84fbfde",
   "metadata": {},
   "source": [
    "### ***Localizar valores de un DataFrame***\n",
    "\n",
    "### ***loc***"
   ]
  },
  {
   "cell_type": "code",
   "execution_count": 15,
   "id": "86558cab-f810-4d2a-87fc-b354e53758d4",
   "metadata": {},
   "outputs": [
    {
     "name": "stdout",
     "output_type": "stream",
     "text": [
      "    A   B   C\n",
      "a   0   1   2\n",
      "b   3   4   5\n",
      "c   6   7   8\n",
      "d   9  10  11\n",
      "e  12  13  14\n",
      "f  15  16  17\n"
     ]
    }
   ],
   "source": [
    "# Usando loc\n",
    "import numpy as np\n",
    "import pandas as pd\n",
    "\n",
    "\n",
    "df = pd.DataFrame(\n",
    "    np.arange(18).reshape([6, 3]),\n",
    "    index=[\"a\", \"b\", \"c\", \"d\", \"e\", \"f\"],\n",
    "    columns=[\"A\", \"B\", \"C\"],\n",
    ")\n",
    "print(df)"
   ]
  },
  {
   "cell_type": "code",
   "execution_count": 17,
   "id": "ddf1c211-8626-4b37-99c9-6c530137d524",
   "metadata": {},
   "outputs": [
    {
     "name": "stdout",
     "output_type": "stream",
     "text": [
      "DataFrame completo\n",
      "    A   B   C\n",
      "a   0   1   2\n",
      "b   3   4   5\n",
      "c   6   7   8\n",
      "d   9  10  11\n",
      "e  12  13  14\n",
      "f  15  16  17\n",
      "\n",
      "Con una sóla etiqueta, se obtiene una serie pandas\n",
      "donde los nombres de las columnas son las etiquetas de las filas\n",
      "A    6\n",
      "B    7\n",
      "C    8\n",
      "Name: c, dtype: int32\n",
      "\n"
     ]
    }
   ],
   "source": [
    "print(f\"DataFrame completo\\n{df}\\n\")\n",
    "\n",
    "# Una sóla etiqueta\n",
    "s1 = df.loc[\"c\"]\n",
    "print(\n",
    "    f\"Con una sóla etiqueta, se obtiene una serie pandas\\n\"\n",
    "    f\"donde los nombres de las columnas son las etiquetas de las filas\\n{s1}\\n\"\n",
    ")\n"
   ]
  },
  {
   "cell_type": "code",
   "execution_count": 18,
   "id": "c4d4fabc-4452-40d0-a9dc-fcb6ece6b065",
   "metadata": {},
   "outputs": [
    {
     "name": "stdout",
     "output_type": "stream",
     "text": [
      "DataFrame completo\n",
      "    A   B   C\n",
      "a   0   1   2\n",
      "b   3   4   5\n",
      "c   6   7   8\n",
      "d   9  10  11\n",
      "e  12  13  14\n",
      "f  15  16  17\n",
      "\n",
      "Con una lista de etiquetas, se obtien un DataFrame\n",
      "    A   B   C\n",
      "c   6   7   8\n",
      "a   0   1   2\n",
      "e  12  13  14\n",
      "\n"
     ]
    }
   ],
   "source": [
    "print(f\"DataFrame completo\\n{df}\\n\")\n",
    "# Con una lista de a\n",
    "df_01 = df.loc[[\"c\", \"a\", \"e\"]]\n",
    "print(f\"Con una lista de etiquetas, se obtien un DataFrame\\n{df_01}\\n\")\n"
   ]
  },
  {
   "cell_type": "code",
   "execution_count": 20,
   "id": "61436647-e730-441a-8bb7-c9f9c0eb2198",
   "metadata": {},
   "outputs": [
    {
     "name": "stdout",
     "output_type": "stream",
     "text": [
      "DataFrame completo\n",
      "    A   B   C\n",
      "a   0   1   2\n",
      "b   3   4   5\n",
      "c   6   7   8\n",
      "d   9  10  11\n",
      "e  12  13  14\n",
      "f  15  16  17\n",
      "\n",
      "Con ['c'] obtenemos un dataFrame\n",
      "   A  B  C\n",
      "c  6  7  8\n",
      "\n"
     ]
    }
   ],
   "source": [
    "print(f\"DataFrame completo\\n{df}\\n\")\n",
    "# Observar este detalle\n",
    "df_02 = df.loc[[\"c\"]]\n",
    "print(f\"Con ['c'] obtenemos un dataFrame\\n{df_02}\\n\")\n"
   ]
  },
  {
   "cell_type": "code",
   "execution_count": 19,
   "id": "b3e650c4-a7ff-4d29-a920-fc42b28a79b2",
   "metadata": {},
   "outputs": [
    {
     "name": "stdout",
     "output_type": "stream",
     "text": [
      "DataFrame completo\n",
      "    A   B   C\n",
      "a   0   1   2\n",
      "b   3   4   5\n",
      "c   6   7   8\n",
      "d   9  10  11\n",
      "e  12  13  14\n",
      "f  15  16  17\n",
      "\n",
      "Con rangos que incluyen ambos extremos, obtenemos un DataFrame\n",
      "   A   B   C\n",
      "b  3   4   5\n",
      "c  6   7   8\n",
      "d  9  10  11\n"
     ]
    }
   ],
   "source": [
    "print(f\"DataFrame completo\\n{df}\\n\")\n",
    "# Con rangos que incluyen ambos extremos\n",
    "df_03 = df.loc[\"b\":\"d\"]\n",
    "print(f\"Con rangos que incluyen ambos extremos, obtenemos un DataFrame\\n{df_03}\")\n"
   ]
  },
  {
   "cell_type": "code",
   "execution_count": 21,
   "id": "b8efbe61-247a-417f-859a-9958165dee30",
   "metadata": {},
   "outputs": [
    {
     "name": "stdout",
     "output_type": "stream",
     "text": [
      "DataFrame completo\n",
      "    A   B   C\n",
      "a   0   1   2\n",
      "b   3   4   5\n",
      "c   6   7   8\n",
      "d   9  10  11\n",
      "e  12  13  14\n",
      "f  15  16  17\n",
      "\n",
      "Se puede obtener un valor puntual, indicando fila y columna\n",
      "fila 'a', columna 'C': 2\n"
     ]
    }
   ],
   "source": [
    "print(f\"DataFrame completo\\n{df}\\n\")\n",
    "# Se puede obtener un valor puntual, indicando fila y columna\n",
    "valor = df.loc[\"a\", \"C\"]\n",
    "print(\n",
    "    f\"Se puede obtener un valor puntual, indicando fila y columna\\n\"\n",
    "    f\"fila 'a', columna 'C': {valor}\"\n",
    ")\n"
   ]
  },
  {
   "cell_type": "code",
   "execution_count": 22,
   "id": "8554be93-412b-4aa7-9144-9ecfa4f0b876",
   "metadata": {},
   "outputs": [
    {
     "name": "stdout",
     "output_type": "stream",
     "text": [
      "DataFrame completo\n",
      "    A   B   C\n",
      "a   0   1   2\n",
      "b   3   4   5\n",
      "c   6   7   8\n",
      "d   9  10  11\n",
      "e  12  13  14\n",
      "f  15  16  17\n",
      "\n",
      "Todos los elementos de una columna, genera una serie\n",
      "a     0\n",
      "b     3\n",
      "c     6\n",
      "d     9\n",
      "e    12\n",
      "f    15\n",
      "Name: A, dtype: int32\n"
     ]
    }
   ],
   "source": [
    "print(f\"DataFrame completo\\n{df}\\n\")\n",
    "# Todos los elementos de una columna, genera una serie\n",
    "s2 = df.loc[:, \"A\"]\n",
    "print(f\"Todos los elementos de una columna, genera una serie\\n{s2}\")\n"
   ]
  },
  {
   "cell_type": "code",
   "execution_count": 23,
   "id": "0bb61749-53b3-4e7a-a723-f76d15bb4623",
   "metadata": {},
   "outputs": [
    {
     "name": "stdout",
     "output_type": "stream",
     "text": [
      "DataFrame completo\n",
      "    A   B   C\n",
      "a   0   1   2\n",
      "b   3   4   5\n",
      "c   6   7   8\n",
      "d   9  10  11\n",
      "e  12  13  14\n",
      "f  15  16  17\n",
      "\n",
      "Se puede crear una serie de filas y una columna específica\n",
      "e    13\n",
      "c     7\n",
      "Name: B, dtype: int32\n"
     ]
    }
   ],
   "source": [
    "print(f\"DataFrame completo\\n{df}\\n\")\n",
    "# Se puede crear una serie de filas y una columna específica\n",
    "s3 = df.loc[[\"e\", \"c\"], \"B\"]\n",
    "print(f\"Se puede crear una serie de filas y una columna específica\\n{s3}\")\n"
   ]
  },
  {
   "cell_type": "code",
   "execution_count": 24,
   "id": "01d8d304-ae07-4a2a-8db6-b5d76d34cc45",
   "metadata": {},
   "outputs": [
    {
     "name": "stdout",
     "output_type": "stream",
     "text": [
      "DataFrame completo\n",
      "    A   B   C\n",
      "a   0   1   2\n",
      "b   3   4   5\n",
      "c   6   7   8\n",
      "d   9  10  11\n",
      "e  12  13  14\n",
      "f  15  16  17\n",
      "\n",
      "DataFrame con nueva fila\n",
      "    A   B   C\n",
      "a   0   1   2\n",
      "b   3   4   5\n",
      "c   6   7   8\n",
      "d   9  10  11\n",
      "e  12  13  14\n",
      "f  15  16  17\n",
      "g  18  19  20\n"
     ]
    }
   ],
   "source": [
    "print(f\"DataFrame completo\\n{df}\\n\")\n",
    "# Se puede añadir una fila, si la etiqueta de la fila no existe\n",
    "df.loc[\"g\"] = (18, 19, 20)\n",
    "print(f\"DataFrame con nueva fila\\n{df}\")\n"
   ]
  },
  {
   "attachments": {},
   "cell_type": "markdown",
   "id": "0048deed-7d4e-4eaa-8d24-2ba55a4089a8",
   "metadata": {},
   "source": [
    "## ***Filtrar DataFrame***"
   ]
  },
  {
   "cell_type": "code",
   "execution_count": 7,
   "id": "655a8378-9f78-4744-aff2-54cf6596367d",
   "metadata": {},
   "outputs": [
    {
     "name": "stdout",
     "output_type": "stream",
     "text": [
      "                         nombre  edad sexo  peso altura  colesterol\n",
      "0  José Luis Martínez Izquierdo    18    H  85.0   1,79       182.0\n",
      "1                Rosa Díaz Díaz    32    M  65.0   1,73       232.0\n",
      "2         Javier García Sánchez    24    H   NaN   1,81       191.0\n",
      "3           Carmen López Pinzón    35    M  65.0    1,7       200.0\n",
      "4          Marisa López Collado    46    M  51.0   1,58       148.0\n"
     ]
    }
   ],
   "source": [
    "import pandas as pd\n",
    "\n",
    "\n",
    "df = pd.read_excel('colesteroles.xlsx', sheet_name=\"Colesterol\")\n",
    "print(df.head())\n"
   ]
  },
  {
   "cell_type": "code",
   "execution_count": 8,
   "id": "2ddb2524-dfe0-41ca-aaa5-7723144f5378",
   "metadata": {},
   "outputs": [
    {
     "name": "stdout",
     "output_type": "stream",
     "text": [
      "                             nombre  edad sexo   peso altura  colesterol\n",
      "9           Santiago Reillo Manzano    46    H   75.0   1,85       280.0\n",
      "6           Antonio Fernández Ocaña    51    H   62.0   1,72       276.0\n",
      "5                 Antonio Ruiz Cruz    68    H   66.0   1,74       249.0\n",
      "8              Pedro Gálvez Tenorio    35    H   90.0   1,94       241.0\n",
      "12  Miguel Angel Cuadrado Gutiérrez    27    H  109.0   1,98       210.0\n",
      "11       José María de la Guía Sanz    58    H   78.0   1,87       198.0\n",
      "2             Javier García Sánchez    24    H    NaN   1,81       191.0\n",
      "0      José Luis Martínez Izquierdo    18    H   85.0   1,79       182.0\n",
      "10            Macarena Álvarez Luna    53    M   55.0   1,62       262.0\n",
      "1                    Rosa Díaz Díaz    32    M   65.0   1,73       232.0\n",
      "3               Carmen López Pinzón    35    M   65.0    1,7       200.0\n",
      "13            Carolina Rubio Moreno    20    M   61.0   1,77       194.0\n",
      "4              Marisa López Collado    46    M   51.0   1,58       148.0\n",
      "7             Pilar Martín González    22    M   60.0   1,66         NaN\n"
     ]
    }
   ],
   "source": [
    "# Imprime con ordenamiento\n",
    "print(df.sort_values([\"sexo\", \"colesterol\"], ascending=[True, False]))\n"
   ]
  },
  {
   "cell_type": "code",
   "execution_count": 9,
   "id": "ead33f43-9102-4fd4-bcbc-67db5b874420",
   "metadata": {},
   "outputs": [
    {
     "name": "stdout",
     "output_type": "stream",
     "text": [
      "                             nombre  edad sexo   peso altura  colesterol\n",
      "9           Santiago Reillo Manzano    46    H   75.0   1,85       280.0\n",
      "6           Antonio Fernández Ocaña    51    H   62.0   1,72       276.0\n",
      "10            Macarena Álvarez Luna    53    M   55.0   1,62       262.0\n",
      "5                 Antonio Ruiz Cruz    68    H   66.0   1,74       249.0\n",
      "8              Pedro Gálvez Tenorio    35    H   90.0   1,94       241.0\n",
      "1                    Rosa Díaz Díaz    32    M   65.0   1,73       232.0\n",
      "12  Miguel Angel Cuadrado Gutiérrez    27    H  109.0   1,98       210.0\n",
      "3               Carmen López Pinzón    35    M   65.0    1,7       200.0\n",
      "11       José María de la Guía Sanz    58    H   78.0   1,87       198.0\n",
      "13            Carolina Rubio Moreno    20    M   61.0   1,77       194.0\n",
      "2             Javier García Sánchez    24    H    NaN   1,81       191.0\n",
      "0      José Luis Martínez Izquierdo    18    H   85.0   1,79       182.0\n",
      "4              Marisa López Collado    46    M   51.0   1,58       148.0\n",
      "7             Pilar Martín González    22    M   60.0   1,66         NaN\n"
     ]
    }
   ],
   "source": [
    "# Se puede crear otro DataFrame\n",
    "df1 = df.sort_values(['colesterol'], ascending=[ False])\n",
    "print(df1)\n"
   ]
  },
  {
   "cell_type": "code",
   "execution_count": 10,
   "id": "af3c6fb6-71c4-4daf-80cd-420c99904914",
   "metadata": {},
   "outputs": [
    {
     "name": "stdout",
     "output_type": "stream",
     "text": [
      "                             nombre  edad sexo   peso altura  colesterol\n",
      "0           Santiago Reillo Manzano    46    H   75.0   1,85       280.0\n",
      "1           Antonio Fernández Ocaña    51    H   62.0   1,72       276.0\n",
      "2                 Antonio Ruiz Cruz    68    H   66.0   1,74       249.0\n",
      "3              Pedro Gálvez Tenorio    35    H   90.0   1,94       241.0\n",
      "4   Miguel Angel Cuadrado Gutiérrez    27    H  109.0   1,98       210.0\n",
      "5        José María de la Guía Sanz    58    H   78.0   1,87       198.0\n",
      "6             Javier García Sánchez    24    H    NaN   1,81       191.0\n",
      "7      José Luis Martínez Izquierdo    18    H   85.0   1,79       182.0\n",
      "8             Macarena Álvarez Luna    53    M   55.0   1,62       262.0\n",
      "9                    Rosa Díaz Díaz    32    M   65.0   1,73       232.0\n",
      "10              Carmen López Pinzón    35    M   65.0    1,7       200.0\n",
      "11            Carolina Rubio Moreno    20    M   61.0   1,77       194.0\n",
      "12             Marisa López Collado    46    M   51.0   1,58       148.0\n",
      "13            Pilar Martín González    22    M   60.0   1,66         NaN\n"
     ]
    }
   ],
   "source": [
    "# Con ignore_index=True, vuelve a numerar los índices\n",
    "df2 = df.sort_values(['sexo','colesterol'], ascending=[True, False], \n",
    "                     ignore_index=True)\n",
    "print(df2)\n"
   ]
  },
  {
   "cell_type": "code",
   "execution_count": 11,
   "id": "536b2d3a-a3a8-492d-b280-54f94c745c37",
   "metadata": {},
   "outputs": [
    {
     "ename": "FileNotFoundError",
     "evalue": "[Errno 2] No such file or directory: 'gapminder.csv'",
     "output_type": "error",
     "traceback": [
      "\u001b[1;31m---------------------------------------------------------------------------\u001b[0m",
      "\u001b[1;31mFileNotFoundError\u001b[0m                         Traceback (most recent call last)",
      "Cell \u001b[1;32mIn[11], line 5\u001b[0m\n\u001b[0;32m      1\u001b[0m \u001b[38;5;66;03m# Otros acciones que se pueden ejecutar con los DataFrame\u001b[39;00m\n\u001b[0;32m      2\u001b[0m \u001b[38;5;28;01mimport\u001b[39;00m \u001b[38;5;21;01mpandas\u001b[39;00m \u001b[38;5;28;01mas\u001b[39;00m \u001b[38;5;21;01mpd\u001b[39;00m\n\u001b[1;32m----> 5\u001b[0m gapminder \u001b[38;5;241m=\u001b[39m \u001b[43mpd\u001b[49m\u001b[38;5;241;43m.\u001b[39;49m\u001b[43mread_csv\u001b[49m\u001b[43m(\u001b[49m\u001b[38;5;124;43m'\u001b[39;49m\u001b[38;5;124;43mgapminder.csv\u001b[39;49m\u001b[38;5;124;43m'\u001b[39;49m\u001b[43m,\u001b[49m\u001b[43m \u001b[49m\u001b[43msep\u001b[49m\u001b[38;5;241;43m=\u001b[39;49m\u001b[38;5;124;43m'\u001b[39;49m\u001b[38;5;124;43m;\u001b[39;49m\u001b[38;5;124;43m'\u001b[39;49m\u001b[43m)\u001b[49m\n\u001b[0;32m      6\u001b[0m \u001b[38;5;28mprint\u001b[39m(gapminder\u001b[38;5;241m.\u001b[39mhead(\u001b[38;5;241m10\u001b[39m))\n",
      "File \u001b[1;32mc:\\Users\\gapal\\AppData\\Local\\Programs\\Python\\Python312\\Lib\\site-packages\\pandas\\io\\parsers\\readers.py:948\u001b[0m, in \u001b[0;36mread_csv\u001b[1;34m(filepath_or_buffer, sep, delimiter, header, names, index_col, usecols, dtype, engine, converters, true_values, false_values, skipinitialspace, skiprows, skipfooter, nrows, na_values, keep_default_na, na_filter, verbose, skip_blank_lines, parse_dates, infer_datetime_format, keep_date_col, date_parser, date_format, dayfirst, cache_dates, iterator, chunksize, compression, thousands, decimal, lineterminator, quotechar, quoting, doublequote, escapechar, comment, encoding, encoding_errors, dialect, on_bad_lines, delim_whitespace, low_memory, memory_map, float_precision, storage_options, dtype_backend)\u001b[0m\n\u001b[0;32m    935\u001b[0m kwds_defaults \u001b[38;5;241m=\u001b[39m _refine_defaults_read(\n\u001b[0;32m    936\u001b[0m     dialect,\n\u001b[0;32m    937\u001b[0m     delimiter,\n\u001b[1;32m   (...)\u001b[0m\n\u001b[0;32m    944\u001b[0m     dtype_backend\u001b[38;5;241m=\u001b[39mdtype_backend,\n\u001b[0;32m    945\u001b[0m )\n\u001b[0;32m    946\u001b[0m kwds\u001b[38;5;241m.\u001b[39mupdate(kwds_defaults)\n\u001b[1;32m--> 948\u001b[0m \u001b[38;5;28;01mreturn\u001b[39;00m \u001b[43m_read\u001b[49m\u001b[43m(\u001b[49m\u001b[43mfilepath_or_buffer\u001b[49m\u001b[43m,\u001b[49m\u001b[43m \u001b[49m\u001b[43mkwds\u001b[49m\u001b[43m)\u001b[49m\n",
      "File \u001b[1;32mc:\\Users\\gapal\\AppData\\Local\\Programs\\Python\\Python312\\Lib\\site-packages\\pandas\\io\\parsers\\readers.py:611\u001b[0m, in \u001b[0;36m_read\u001b[1;34m(filepath_or_buffer, kwds)\u001b[0m\n\u001b[0;32m    608\u001b[0m _validate_names(kwds\u001b[38;5;241m.\u001b[39mget(\u001b[38;5;124m\"\u001b[39m\u001b[38;5;124mnames\u001b[39m\u001b[38;5;124m\"\u001b[39m, \u001b[38;5;28;01mNone\u001b[39;00m))\n\u001b[0;32m    610\u001b[0m \u001b[38;5;66;03m# Create the parser.\u001b[39;00m\n\u001b[1;32m--> 611\u001b[0m parser \u001b[38;5;241m=\u001b[39m \u001b[43mTextFileReader\u001b[49m\u001b[43m(\u001b[49m\u001b[43mfilepath_or_buffer\u001b[49m\u001b[43m,\u001b[49m\u001b[43m \u001b[49m\u001b[38;5;241;43m*\u001b[39;49m\u001b[38;5;241;43m*\u001b[39;49m\u001b[43mkwds\u001b[49m\u001b[43m)\u001b[49m\n\u001b[0;32m    613\u001b[0m \u001b[38;5;28;01mif\u001b[39;00m chunksize \u001b[38;5;129;01mor\u001b[39;00m iterator:\n\u001b[0;32m    614\u001b[0m     \u001b[38;5;28;01mreturn\u001b[39;00m parser\n",
      "File \u001b[1;32mc:\\Users\\gapal\\AppData\\Local\\Programs\\Python\\Python312\\Lib\\site-packages\\pandas\\io\\parsers\\readers.py:1448\u001b[0m, in \u001b[0;36mTextFileReader.__init__\u001b[1;34m(self, f, engine, **kwds)\u001b[0m\n\u001b[0;32m   1445\u001b[0m     \u001b[38;5;28mself\u001b[39m\u001b[38;5;241m.\u001b[39moptions[\u001b[38;5;124m\"\u001b[39m\u001b[38;5;124mhas_index_names\u001b[39m\u001b[38;5;124m\"\u001b[39m] \u001b[38;5;241m=\u001b[39m kwds[\u001b[38;5;124m\"\u001b[39m\u001b[38;5;124mhas_index_names\u001b[39m\u001b[38;5;124m\"\u001b[39m]\n\u001b[0;32m   1447\u001b[0m \u001b[38;5;28mself\u001b[39m\u001b[38;5;241m.\u001b[39mhandles: IOHandles \u001b[38;5;241m|\u001b[39m \u001b[38;5;28;01mNone\u001b[39;00m \u001b[38;5;241m=\u001b[39m \u001b[38;5;28;01mNone\u001b[39;00m\n\u001b[1;32m-> 1448\u001b[0m \u001b[38;5;28mself\u001b[39m\u001b[38;5;241m.\u001b[39m_engine \u001b[38;5;241m=\u001b[39m \u001b[38;5;28;43mself\u001b[39;49m\u001b[38;5;241;43m.\u001b[39;49m\u001b[43m_make_engine\u001b[49m\u001b[43m(\u001b[49m\u001b[43mf\u001b[49m\u001b[43m,\u001b[49m\u001b[43m \u001b[49m\u001b[38;5;28;43mself\u001b[39;49m\u001b[38;5;241;43m.\u001b[39;49m\u001b[43mengine\u001b[49m\u001b[43m)\u001b[49m\n",
      "File \u001b[1;32mc:\\Users\\gapal\\AppData\\Local\\Programs\\Python\\Python312\\Lib\\site-packages\\pandas\\io\\parsers\\readers.py:1705\u001b[0m, in \u001b[0;36mTextFileReader._make_engine\u001b[1;34m(self, f, engine)\u001b[0m\n\u001b[0;32m   1703\u001b[0m     \u001b[38;5;28;01mif\u001b[39;00m \u001b[38;5;124m\"\u001b[39m\u001b[38;5;124mb\u001b[39m\u001b[38;5;124m\"\u001b[39m \u001b[38;5;129;01mnot\u001b[39;00m \u001b[38;5;129;01min\u001b[39;00m mode:\n\u001b[0;32m   1704\u001b[0m         mode \u001b[38;5;241m+\u001b[39m\u001b[38;5;241m=\u001b[39m \u001b[38;5;124m\"\u001b[39m\u001b[38;5;124mb\u001b[39m\u001b[38;5;124m\"\u001b[39m\n\u001b[1;32m-> 1705\u001b[0m \u001b[38;5;28mself\u001b[39m\u001b[38;5;241m.\u001b[39mhandles \u001b[38;5;241m=\u001b[39m \u001b[43mget_handle\u001b[49m\u001b[43m(\u001b[49m\n\u001b[0;32m   1706\u001b[0m \u001b[43m    \u001b[49m\u001b[43mf\u001b[49m\u001b[43m,\u001b[49m\n\u001b[0;32m   1707\u001b[0m \u001b[43m    \u001b[49m\u001b[43mmode\u001b[49m\u001b[43m,\u001b[49m\n\u001b[0;32m   1708\u001b[0m \u001b[43m    \u001b[49m\u001b[43mencoding\u001b[49m\u001b[38;5;241;43m=\u001b[39;49m\u001b[38;5;28;43mself\u001b[39;49m\u001b[38;5;241;43m.\u001b[39;49m\u001b[43moptions\u001b[49m\u001b[38;5;241;43m.\u001b[39;49m\u001b[43mget\u001b[49m\u001b[43m(\u001b[49m\u001b[38;5;124;43m\"\u001b[39;49m\u001b[38;5;124;43mencoding\u001b[39;49m\u001b[38;5;124;43m\"\u001b[39;49m\u001b[43m,\u001b[49m\u001b[43m \u001b[49m\u001b[38;5;28;43;01mNone\u001b[39;49;00m\u001b[43m)\u001b[49m\u001b[43m,\u001b[49m\n\u001b[0;32m   1709\u001b[0m \u001b[43m    \u001b[49m\u001b[43mcompression\u001b[49m\u001b[38;5;241;43m=\u001b[39;49m\u001b[38;5;28;43mself\u001b[39;49m\u001b[38;5;241;43m.\u001b[39;49m\u001b[43moptions\u001b[49m\u001b[38;5;241;43m.\u001b[39;49m\u001b[43mget\u001b[49m\u001b[43m(\u001b[49m\u001b[38;5;124;43m\"\u001b[39;49m\u001b[38;5;124;43mcompression\u001b[39;49m\u001b[38;5;124;43m\"\u001b[39;49m\u001b[43m,\u001b[49m\u001b[43m \u001b[49m\u001b[38;5;28;43;01mNone\u001b[39;49;00m\u001b[43m)\u001b[49m\u001b[43m,\u001b[49m\n\u001b[0;32m   1710\u001b[0m \u001b[43m    \u001b[49m\u001b[43mmemory_map\u001b[49m\u001b[38;5;241;43m=\u001b[39;49m\u001b[38;5;28;43mself\u001b[39;49m\u001b[38;5;241;43m.\u001b[39;49m\u001b[43moptions\u001b[49m\u001b[38;5;241;43m.\u001b[39;49m\u001b[43mget\u001b[49m\u001b[43m(\u001b[49m\u001b[38;5;124;43m\"\u001b[39;49m\u001b[38;5;124;43mmemory_map\u001b[39;49m\u001b[38;5;124;43m\"\u001b[39;49m\u001b[43m,\u001b[49m\u001b[43m \u001b[49m\u001b[38;5;28;43;01mFalse\u001b[39;49;00m\u001b[43m)\u001b[49m\u001b[43m,\u001b[49m\n\u001b[0;32m   1711\u001b[0m \u001b[43m    \u001b[49m\u001b[43mis_text\u001b[49m\u001b[38;5;241;43m=\u001b[39;49m\u001b[43mis_text\u001b[49m\u001b[43m,\u001b[49m\n\u001b[0;32m   1712\u001b[0m \u001b[43m    \u001b[49m\u001b[43merrors\u001b[49m\u001b[38;5;241;43m=\u001b[39;49m\u001b[38;5;28;43mself\u001b[39;49m\u001b[38;5;241;43m.\u001b[39;49m\u001b[43moptions\u001b[49m\u001b[38;5;241;43m.\u001b[39;49m\u001b[43mget\u001b[49m\u001b[43m(\u001b[49m\u001b[38;5;124;43m\"\u001b[39;49m\u001b[38;5;124;43mencoding_errors\u001b[39;49m\u001b[38;5;124;43m\"\u001b[39;49m\u001b[43m,\u001b[49m\u001b[43m \u001b[49m\u001b[38;5;124;43m\"\u001b[39;49m\u001b[38;5;124;43mstrict\u001b[39;49m\u001b[38;5;124;43m\"\u001b[39;49m\u001b[43m)\u001b[49m\u001b[43m,\u001b[49m\n\u001b[0;32m   1713\u001b[0m \u001b[43m    \u001b[49m\u001b[43mstorage_options\u001b[49m\u001b[38;5;241;43m=\u001b[39;49m\u001b[38;5;28;43mself\u001b[39;49m\u001b[38;5;241;43m.\u001b[39;49m\u001b[43moptions\u001b[49m\u001b[38;5;241;43m.\u001b[39;49m\u001b[43mget\u001b[49m\u001b[43m(\u001b[49m\u001b[38;5;124;43m\"\u001b[39;49m\u001b[38;5;124;43mstorage_options\u001b[39;49m\u001b[38;5;124;43m\"\u001b[39;49m\u001b[43m,\u001b[49m\u001b[43m \u001b[49m\u001b[38;5;28;43;01mNone\u001b[39;49;00m\u001b[43m)\u001b[49m\u001b[43m,\u001b[49m\n\u001b[0;32m   1714\u001b[0m \u001b[43m\u001b[49m\u001b[43m)\u001b[49m\n\u001b[0;32m   1715\u001b[0m \u001b[38;5;28;01massert\u001b[39;00m \u001b[38;5;28mself\u001b[39m\u001b[38;5;241m.\u001b[39mhandles \u001b[38;5;129;01mis\u001b[39;00m \u001b[38;5;129;01mnot\u001b[39;00m \u001b[38;5;28;01mNone\u001b[39;00m\n\u001b[0;32m   1716\u001b[0m f \u001b[38;5;241m=\u001b[39m \u001b[38;5;28mself\u001b[39m\u001b[38;5;241m.\u001b[39mhandles\u001b[38;5;241m.\u001b[39mhandle\n",
      "File \u001b[1;32mc:\\Users\\gapal\\AppData\\Local\\Programs\\Python\\Python312\\Lib\\site-packages\\pandas\\io\\common.py:863\u001b[0m, in \u001b[0;36mget_handle\u001b[1;34m(path_or_buf, mode, encoding, compression, memory_map, is_text, errors, storage_options)\u001b[0m\n\u001b[0;32m    858\u001b[0m \u001b[38;5;28;01melif\u001b[39;00m \u001b[38;5;28misinstance\u001b[39m(handle, \u001b[38;5;28mstr\u001b[39m):\n\u001b[0;32m    859\u001b[0m     \u001b[38;5;66;03m# Check whether the filename is to be opened in binary mode.\u001b[39;00m\n\u001b[0;32m    860\u001b[0m     \u001b[38;5;66;03m# Binary mode does not support 'encoding' and 'newline'.\u001b[39;00m\n\u001b[0;32m    861\u001b[0m     \u001b[38;5;28;01mif\u001b[39;00m ioargs\u001b[38;5;241m.\u001b[39mencoding \u001b[38;5;129;01mand\u001b[39;00m \u001b[38;5;124m\"\u001b[39m\u001b[38;5;124mb\u001b[39m\u001b[38;5;124m\"\u001b[39m \u001b[38;5;129;01mnot\u001b[39;00m \u001b[38;5;129;01min\u001b[39;00m ioargs\u001b[38;5;241m.\u001b[39mmode:\n\u001b[0;32m    862\u001b[0m         \u001b[38;5;66;03m# Encoding\u001b[39;00m\n\u001b[1;32m--> 863\u001b[0m         handle \u001b[38;5;241m=\u001b[39m \u001b[38;5;28;43mopen\u001b[39;49m\u001b[43m(\u001b[49m\n\u001b[0;32m    864\u001b[0m \u001b[43m            \u001b[49m\u001b[43mhandle\u001b[49m\u001b[43m,\u001b[49m\n\u001b[0;32m    865\u001b[0m \u001b[43m            \u001b[49m\u001b[43mioargs\u001b[49m\u001b[38;5;241;43m.\u001b[39;49m\u001b[43mmode\u001b[49m\u001b[43m,\u001b[49m\n\u001b[0;32m    866\u001b[0m \u001b[43m            \u001b[49m\u001b[43mencoding\u001b[49m\u001b[38;5;241;43m=\u001b[39;49m\u001b[43mioargs\u001b[49m\u001b[38;5;241;43m.\u001b[39;49m\u001b[43mencoding\u001b[49m\u001b[43m,\u001b[49m\n\u001b[0;32m    867\u001b[0m \u001b[43m            \u001b[49m\u001b[43merrors\u001b[49m\u001b[38;5;241;43m=\u001b[39;49m\u001b[43merrors\u001b[49m\u001b[43m,\u001b[49m\n\u001b[0;32m    868\u001b[0m \u001b[43m            \u001b[49m\u001b[43mnewline\u001b[49m\u001b[38;5;241;43m=\u001b[39;49m\u001b[38;5;124;43m\"\u001b[39;49m\u001b[38;5;124;43m\"\u001b[39;49m\u001b[43m,\u001b[49m\n\u001b[0;32m    869\u001b[0m \u001b[43m        \u001b[49m\u001b[43m)\u001b[49m\n\u001b[0;32m    870\u001b[0m     \u001b[38;5;28;01melse\u001b[39;00m:\n\u001b[0;32m    871\u001b[0m         \u001b[38;5;66;03m# Binary mode\u001b[39;00m\n\u001b[0;32m    872\u001b[0m         handle \u001b[38;5;241m=\u001b[39m \u001b[38;5;28mopen\u001b[39m(handle, ioargs\u001b[38;5;241m.\u001b[39mmode)\n",
      "\u001b[1;31mFileNotFoundError\u001b[0m: [Errno 2] No such file or directory: 'gapminder.csv'"
     ]
    }
   ],
   "source": [
    "# Otros acciones que se pueden ejecutar con los DataFrame\n",
    "import pandas as pd\n",
    "\n",
    "\n",
    "gapminder = pd.read_csv('gapminder.csv', sep=';')\n",
    "print(gapminder.head(10))\n"
   ]
  },
  {
   "cell_type": "code",
   "execution_count": 12,
   "id": "b5122500-5784-4653-b6f8-943e94706304",
   "metadata": {},
   "outputs": [
    {
     "name": "stdout",
     "output_type": "stream",
     "text": [
      "<class 'pandas.core.frame.DataFrame'>\n"
     ]
    },
    {
     "ename": "NameError",
     "evalue": "name 'gapminder' is not defined",
     "output_type": "error",
     "traceback": [
      "\u001b[1;31m---------------------------------------------------------------------------\u001b[0m",
      "\u001b[1;31mNameError\u001b[0m                                 Traceback (most recent call last)",
      "Cell \u001b[1;32mIn[12], line 3\u001b[0m\n\u001b[0;32m      1\u001b[0m \u001b[38;5;66;03m# Obteniendo información del DataFrame\u001b[39;00m\n\u001b[0;32m      2\u001b[0m \u001b[38;5;28mprint\u001b[39m(\u001b[38;5;28mtype\u001b[39m(df))\n\u001b[1;32m----> 3\u001b[0m \u001b[38;5;28mprint\u001b[39m(\u001b[43mgapminder\u001b[49m\u001b[38;5;241m.\u001b[39mshape)\n\u001b[0;32m      4\u001b[0m \u001b[38;5;28mprint\u001b[39m(gapminder\u001b[38;5;241m.\u001b[39mcolumns)\n\u001b[0;32m      5\u001b[0m \u001b[38;5;28mprint\u001b[39m(gapminder\u001b[38;5;241m.\u001b[39mdtypes)\n",
      "\u001b[1;31mNameError\u001b[0m: name 'gapminder' is not defined"
     ]
    }
   ],
   "source": [
    "# Obteniendo información del DataFrame\n",
    "print(type(df))\n",
    "print(gapminder.shape)\n",
    "print(gapminder.columns)\n",
    "print(gapminder.dtypes)\n",
    "print(gapminder.info())\n"
   ]
  },
  {
   "attachments": {},
   "cell_type": "markdown",
   "id": "0da86bd6-ffa2-4baa-97e6-509437821b92",
   "metadata": {},
   "source": [
    "## ***Actualizando DataFrame con \"loc\"***"
   ]
  },
  {
   "cell_type": "code",
   "execution_count": 5,
   "id": "5cfb3b70-13fd-4d79-9a5a-d827bb4f1600",
   "metadata": {},
   "outputs": [
    {
     "name": "stdout",
     "output_type": "stream",
     "text": [
      "     Name Price Stock\n",
      "0  Orange    34   Yes\n",
      "\n",
      "(1, 3)\n",
      "Número de filas 1\n",
      "     Name Price Stock\n",
      "0  Orange    34   Yes\n",
      "1   Mango     4    No\n",
      "\n",
      "Número de filas 2\n",
      "     Name Price Stock\n",
      "0  Orange    34   Yes\n",
      "1   Mango     4    No\n",
      "2   Apple    14   Yes\n",
      "\n"
     ]
    }
   ],
   "source": [
    "# Adiciona filas usando loc\n",
    "import numpy as np\n",
    "import pandas as pd\n",
    "\n",
    "\n",
    "lista_de_frutas = np.array([[\"Orange\", 34, \"Yes\"]])\n",
    "columnas = [\"Name\", \"Price\", \"Stock\"]\n",
    "\n",
    "# Creamos un data frame\n",
    "frutas = pd.DataFrame(lista_de_frutas, columns=columnas)\n",
    "print(f\"{frutas}\\n\")\n",
    "\n",
    "print(frutas.shape)\n",
    "# Adicionar nuevas filas\n",
    "print(f\"Número de filas {frutas.shape[0]}\")\n",
    "frutas.loc[frutas.shape[0]] = (\"Mango\", 4, \"No\")\n",
    "print(f\"{frutas}\\n\")\n",
    "\n",
    "print(f\"Número de filas {frutas.shape[0]}\")\n",
    "frutas.loc[frutas.shape[0]] = (\"Apple\", 14, \"Yes\")\n",
    "print(f\"{frutas}\\n\")\n"
   ]
  }
 ],
 "metadata": {
  "kernelspec": {
   "display_name": "Python 3 (ipykernel)",
   "language": "python",
   "name": "python3"
  },
  "language_info": {
   "codemirror_mode": {
    "name": "ipython",
    "version": 3
   },
   "file_extension": ".py",
   "mimetype": "text/x-python",
   "name": "python",
   "nbconvert_exporter": "python",
   "pygments_lexer": "ipython3",
   "version": "3.12.0"
  }
 },
 "nbformat": 4,
 "nbformat_minor": 5
}
