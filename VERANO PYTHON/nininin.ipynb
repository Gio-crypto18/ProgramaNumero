{
 "cells": [
  {
   "cell_type": "code",
   "execution_count": null,
   "metadata": {},
   "outputs": [],
   "source": [
    "class Motor:\n",
    "    def __init__(self,cilindros,hp):\n",
    "        self.cilindros = cilindros\n",
    "        self.hp = hp\n",
    "\n",
    "    def __str__(self):\n",
    "        return f\"{self.cilindros} cilindros tiene {self.hp} de potencia\"\n",
    "\n",
    "    def trabaja(self):\n",
    "        for i in range(self.hp):\n",
    "            print(i,end=\", \")\n",
    "\n",
    "\n",
    "class Auto:\n",
    "    def __init__(self,modelo,precio,cilindros,hp):\n",
    "        self.modelo = modelo \n",
    "        self.precio = precio \n",
    "        self.motor = Motor(cilindros,hp)\n",
    "\n",
    "    def __str__(self):\n",
    "        return f\"El auto {self.modelo} con motor {self.motor} y cuesta {self.precio}\"\n",
    "\n",
    "    def Encender(self):\n",
    "        print(\"Encender motor\")\n",
    "        self.motor.trabaja()\n",
    "\n",
    "\n",
    "#Principal 2\n",
    "auto1 = Auto(\"Ferrari\",500000,8,300)\n",
    "print(auto1)\n",
    "auto1.Encender()"
   ]
  }
 ],
 "metadata": {
  "language_info": {
   "name": "python"
  }
 },
 "nbformat": 4,
 "nbformat_minor": 2
}
